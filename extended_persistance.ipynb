{
 "cells": [
  {
   "cell_type": "markdown",
   "metadata": {},
   "source": [
    "## Persistence and Extended Persistence Diagrams\n",
    "\n",
    "This code in this file is based on the Extended Persistance tutorial by Mathieu Carrière. \n",
    "\n",
    "The GUDHI TDA tutorials can be found here: https://github.com/GUDHI/TDA-tutorial/tree/master"
   ]
  },
  {
   "cell_type": "code",
   "execution_count": 1,
   "metadata": {},
   "outputs": [],
   "source": [
    "import numpy as np\n",
    "import gudhi as gd\n",
    "import matplotlib.pyplot as plt\n",
    "import networkx as nx\n",
    "from mpl_toolkits.mplot3d import Axes3D"
   ]
  },
  {
   "cell_type": "markdown",
   "metadata": {},
   "source": [
    "In Gudhi, filtered simplicial complexes are encoded through a data structure called **simplex tree**.\n",
    "\n",
    "Use the `insert()` method to add simplices. The `insert()` method returns `FALSE` if we try to insert an existing simplex."
   ]
  },
  {
   "cell_type": "code",
   "execution_count": 2,
   "metadata": {},
   "outputs": [],
   "source": [
    "# empty simplicial complex \n",
    "st = gd.SimplexTree()\n",
    "\n",
    "# use insert() method to add simplices to st\n",
    "# insert automtically adds required sub-simplices\n",
    "st.insert([0,1])          # adding a 1-simplex\n",
    "st.insert([1,2]) \n",
    "st.insert([1,3]) \n",
    "st.insert([2,4]) \n",
    "st.insert([3,4]) \n",
    "st.insert([4,5]) \n",
    "st.insert([2,6]) \n",
    "st.insert([3,7]) \n",
    "st.assign_filtration([0], 0.)\n",
    "st.assign_filtration([1], 1.)\n",
    "st.assign_filtration([2], 2.)\n",
    "st.assign_filtration([3], 3.)\n",
    "st.assign_filtration([4], 4.)\n",
    "st.assign_filtration([5], 5.)\n",
    "st.assign_filtration([6], 0.5)\n",
    "st.assign_filtration([7], 4.5)\n",
    "_ = st.make_filtration_non_decreasing() # return value is a throw away variable\n",
    "# i.e. The purpose of this line is to call the function for its side effects (if any), without needing to store or use its return value. "
   ]
  },
  {
   "cell_type": "markdown",
   "metadata": {},
   "source": [
    "Use the method `get_filtration()` followed by for loop to obtain all simplices and fitration values of an object of type `SimplexTree`."
   ]
  },
  {
   "cell_type": "code",
   "execution_count": 3,
   "metadata": {},
   "outputs": [
    {
     "name": "stdout",
     "output_type": "stream",
     "text": [
      "([0], 0.0)\n",
      "([6], 0.5)\n",
      "([1], 1.0)\n",
      "([0, 1], 1.0)\n",
      "([2], 2.0)\n",
      "([1, 2], 2.0)\n",
      "([2, 6], 2.0)\n",
      "([3], 3.0)\n",
      "([1, 3], 3.0)\n",
      "([4], 4.0)\n",
      "([2, 4], 4.0)\n",
      "([3, 4], 4.0)\n",
      "([7], 4.5)\n",
      "([3, 7], 4.5)\n",
      "([5], 5.0)\n",
      "([4, 5], 5.0)\n"
     ]
    }
   ],
   "source": [
    "# st_gen is a generator object, so use for loop to obtain all simplices\n",
    "# notice that all filtration values are set to 0\n",
    "st_gen = st.get_filtration()\n",
    "\n",
    "for splx in st_gen:\n",
    "    print(splx)"
   ]
  },
  {
   "cell_type": "markdown",
   "metadata": {},
   "source": [
    "Different method calls can be used to retrieve different descriptors of the simplicial complex"
   ]
  },
  {
   "cell_type": "code",
   "execution_count": 4,
   "metadata": {},
   "outputs": [
    {
     "name": "stdout",
     "output_type": "stream",
     "text": [
      "([0, 1], 1.0)\n",
      "([0], 0.0)\n",
      "([1, 2], 2.0)\n",
      "([1, 3], 3.0)\n",
      "([1], 1.0)\n",
      "([2, 4], 4.0)\n",
      "([2, 6], 2.0)\n",
      "([2], 2.0)\n",
      "([3, 4], 4.0)\n",
      "([3, 7], 4.5)\n",
      "([3], 3.0)\n",
      "([4, 5], 5.0)\n",
      "([4], 4.0)\n",
      "([5], 5.0)\n",
      "([6], 0.5)\n",
      "([7], 4.5)\n",
      "inf\n"
     ]
    }
   ],
   "source": [
    "# dimension of the complex\n",
    "st.dimension()\n",
    "\n",
    "# num of vertices or 0-simplices\n",
    "st.num_vertices()\n",
    "\n",
    "# num. of simplices\n",
    "st.num_simplices()\n",
    "\n",
    "# check the existance of a specific simplex\n",
    "st.find([1,2])\n",
    "\n",
    "# obtain d-skeleton i.e. union of all simplices of dim less than or equal to d\n",
    "# st1 is generator object\n",
    "st1 = st.get_skeleton(1)\n",
    "for splx in st1:\n",
    "    print(splx)\n",
    "\n",
    "\n",
    "# filtration value associated with particular simplex\n",
    "print(st.filtration([1,2,3]))"
   ]
  },
  {
   "cell_type": "markdown",
   "metadata": {},
   "source": [
    "For more information, refer Gudhi's [documentation on SimplexTree](https://gudhi.inria.fr/python/latest/simplex_tree_ref.html) data structures."
   ]
  },
  {
   "cell_type": "markdown",
   "metadata": {},
   "source": [
    "Let `st` be an object of type `SimplexTree`. There are two ways of associating filter values to simplices:\n",
    "1. `st.insert( , filteration =  )`: to assign a filter value while introducing a simplex into the complex.\n",
    "2. `st.assign_filtration()`: to modify the existing filtration value of a simplex already included in the complex."
   ]
  },
  {
   "cell_type": "code",
   "execution_count": 6,
   "metadata": {},
   "outputs": [
    {
     "name": "stdout",
     "output_type": "stream",
     "text": [
      "([0], 0.0)\n",
      "([6], 0.5)\n",
      "([1], 1.0)\n",
      "([0, 1], 1.0)\n",
      "([2], 2.0)\n",
      "([1, 2], 2.0)\n",
      "([2, 6], 2.0)\n",
      "([3], 3.0)\n",
      "([1, 3], 3.0)\n",
      "([4], 4.0)\n",
      "([2, 4], 4.0)\n",
      "([3, 4], 4.0)\n",
      "([7], 4.5)\n",
      "([3, 7], 4.5)\n",
      "([5], 5.0)\n",
      "([4, 5], 5.0)\n"
     ]
    }
   ],
   "source": [
    "# to obtain simplex-filter function values\n",
    "st_gen = st.get_filtration()\n",
    "\n",
    "for smplx in st_gen:\n",
    "    print(smplx)"
   ]
  },
  {
   "cell_type": "code",
   "execution_count": 7,
   "metadata": {},
   "outputs": [
    {
     "name": "stdout",
     "output_type": "stream",
     "text": [
      "([0], 0.0)\n",
      "([6], 0.5)\n",
      "([1], 1.0)\n",
      "([0, 1], 1.0)\n",
      "([2], 2.0)\n",
      "([1, 2], 2.0)\n",
      "([2, 6], 2.0)\n",
      "([3], 3.0)\n",
      "([1, 3], 3.0)\n",
      "([4], 4.0)\n",
      "([2, 4], 4.0)\n",
      "([3, 4], 4.0)\n",
      "([7], 4.5)\n",
      "([3, 7], 4.5)\n",
      "([5], 5.0)\n",
      "([4, 5], 5.0)\n"
     ]
    }
   ],
   "source": [
    "st.make_filtration_non_decreasing()\n",
    "st_gen = st.get_filtration()\n",
    "\n",
    "for smplx in st_gen:\n",
    "    print(smplx)"
   ]
  },
  {
   "cell_type": "markdown",
   "metadata": {},
   "source": [
    "Visualizing the simplicial complex. In our example, the complex is a graph. We use tools from `NetworkX` module to visulaize the complex."
   ]
  },
  {
   "cell_type": "code",
   "execution_count": 13,
   "metadata": {},
   "outputs": [
    {
     "name": "stdout",
     "output_type": "stream",
     "text": [
      "[(0, 1), (1, 2), (1, 3), (2, 4), (2, 6), (3, 4), (3, 7), (4, 5)]\n",
      "[0, 1, 2, 3, 4, 6, 7, 5]\n"
     ]
    }
   ],
   "source": [
    "# initialize an empty graph G and add nodes and edges based on 0 and 1 simplices\n",
    "G = nx.Graph()\n",
    "for (splx,_) in st.get_skeleton(1):\n",
    "    if len(splx) == 1:\n",
    "        G.add_node(splx[0])\n",
    "    if len(splx) == 2:\n",
    "        G.add_edge(splx[0], splx[1])\n",
    "\n",
    "\n",
    "print(G.edges())\n",
    "print(G.nodes())"
   ]
  },
  {
   "cell_type": "code",
   "execution_count": 22,
   "metadata": {},
   "outputs": [
    {
     "data": {
      "text/plain": [
       "{0: [0.0, 0.0],\n",
       " 1: [0.0, 1.0],\n",
       " 2: [-1.0, 2.0],\n",
       " 3: [1.0, 3.0],\n",
       " 4: [0.0, 4.0],\n",
       " 6: [-2.0, 0.5],\n",
       " 7: [2.0, 4.5],\n",
       " 5: [0.0, 5.0]}"
      ]
     },
     "execution_count": 22,
     "metadata": {},
     "output_type": "execute_result"
    }
   ],
   "source": [
    "# dictionary containing position of vertices in the co-ord plane\n",
    "pos = {}\n",
    "for idxv, v in enumerate(G.nodes()):\n",
    "    y = st.filtration([v])\n",
    "    if v == 2:\n",
    "        x = -1.\n",
    "    elif v == 6:\n",
    "        x = -2.\n",
    "    elif v == 3:\n",
    "        x = 1.\n",
    "    elif v == 7:\n",
    "        x = 2.\n",
    "    else:\n",
    "        x = 0.\n",
    "    pos[v] = [x,y]\n",
    "\n",
    "# key = vertex/0-simplex \n",
    "# value = position in co-ord plane\n",
    "pos"
   ]
  },
  {
   "cell_type": "code",
   "execution_count": 27,
   "metadata": {},
   "outputs": [
    {
     "data": {
      "image/png": "[encoded data removed]",
      "text/plain": [
       "<Figure size 600x600 with 1 Axes>"
      ]
     },
     "metadata": {},
     "output_type": "display_data"
    }
   ],
   "source": [
    "fig, ax = plt.subplots(figsize=(6,6))\n",
    "nx.draw(G, pos=pos, node_size=100, ax=ax)\n",
    "limits=plt.axis('on')\n",
    "ax.tick_params(left=True, bottom=False, labelleft=True, labelbottom=False)\n",
    "plt.show()"
   ]
  },
  {
   "cell_type": "code",
   "execution_count": 28,
   "metadata": {},
   "outputs": [
    {
     "name": "stderr",
     "output_type": "stream",
     "text": [
      "/home/padmaraga/anaconda3/envs/tsvd_fmri/lib/python3.12/site-packages/gudhi/persistence_graphical_tools.py:107: UserWarning: usetex mode requires TeX.\n",
      "  warnings.warn(\"usetex mode requires TeX.\")\n"
     ]
    },
    {
     "data": {
      "image/png": "[encoded data removed]",
      "text/plain": [
       "<Figure size 640x480 with 1 Axes>"
      ]
     },
     "metadata": {},
     "output_type": "display_data"
    }
   ],
   "source": [
    "# (ordinary) Persistence diagram\n",
    "PD = st.persistence(persistence_dim_max = True)\n",
    "gd.plot_persistence_diagram(PD)\n",
    "plt.show()"
   ]
  },
  {
   "cell_type": "code",
   "execution_count": 30,
   "metadata": {},
   "outputs": [
    {
     "data": {
      "image/png": "[encoded data removed]",
      "text/plain": [
       "<Figure size 640x480 with 1 Axes>"
      ]
     },
     "metadata": {},
     "output_type": "display_data"
    }
   ],
   "source": [
    "gd.plot_persistence_barcode(PD)\n",
    "plt.show()"
   ]
  }
 ],
 "metadata": {
  "kernelspec": {
   "display_name": "Python 3",
   "language": "python",
   "name": "python3"
  },
  "language_info": {
   "codemirror_mode": {
    "name": "ipython",
    "version": 3
   },
   "file_extension": ".py",
   "mimetype": "text/x-python",
   "name": "python",
   "nbconvert_exporter": "python",
   "pygments_lexer": "ipython3",
   "version": "3.12.7"
  }
 },
 "nbformat": 4,
 "nbformat_minor": 2
}
