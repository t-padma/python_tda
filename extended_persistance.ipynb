{
 "cells": [
  {
   "cell_type": "markdown",
   "metadata": {},
   "source": [
    "## Extended Persistence\n",
    "\n",
    "This code in this file is based on the Extended Persistance tutorial by Mathieu Carrière. \n",
    "\n",
    "The GUDHI TDA tutorials can be found here: https://github.com/GUDHI/TDA-tutorial/tree/master"
   ]
  },
  {
   "cell_type": "code",
   "execution_count": 1,
   "metadata": {},
   "outputs": [],
   "source": [
    "import numpy as np\n",
    "import gudhi as gd\n",
    "import matplotlib.pyplot as plt\n",
    "import networkx as nx\n",
    "from mpl_toolkits.mplot3d import Axes3D"
   ]
  },
  {
   "cell_type": "markdown",
   "metadata": {},
   "source": [
    "In Gudhi, filtered simplicial complexes are encoded through a data structure called **simplex tree**.\n",
    "\n",
    "Use the `insert()` method to add simplices. The `insert()` method returns `FALSE` if we try to insert an existing simplex."
   ]
  },
  {
   "cell_type": "code",
   "execution_count": 7,
   "metadata": {},
   "outputs": [
    {
     "data": {
      "text/plain": [
       "True"
      ]
     },
     "execution_count": 7,
     "metadata": {},
     "output_type": "execute_result"
    }
   ],
   "source": [
    "# empty simplicial complex \n",
    "st = gd.SimplexTree()\n",
    "\n",
    "# use insert() method to add simplices to st\n",
    "# insert automtically adds required sub-simplices\n",
    "st.insert([0,1])          # adding a 1-simplex\n",
    "st.insert([3])            # 0-simplex\n",
    "st.insert([1,2,3])        # 2-simplex"
   ]
  },
  {
   "cell_type": "markdown",
   "metadata": {},
   "source": [
    "Use the method `get_filtration()` followed by for loop to obtain all simplices and fitration values of an object of type `SimplexTree`."
   ]
  },
  {
   "cell_type": "code",
   "execution_count": 11,
   "metadata": {},
   "outputs": [
    {
     "name": "stdout",
     "output_type": "stream",
     "text": [
      "([0], 0.0)\n",
      "([1], 0.0)\n",
      "([0, 1], 0.0)\n",
      "([2], 0.0)\n",
      "([1, 2], 0.0)\n",
      "([3], 0.0)\n",
      "([1, 3], 0.0)\n",
      "([2, 3], 0.0)\n",
      "([1, 2, 3], 0.0)\n"
     ]
    }
   ],
   "source": [
    "# st_gen is generator to obtain all simplices\n",
    "# notice that all filtration values are set to 0\n",
    "st_gen = st.get_filtration()\n",
    "\n",
    "for splx in st_gen:\n",
    "    print(splx)"
   ]
  },
  {
   "cell_type": "markdown",
   "metadata": {},
   "source": [
    "Different method calls can be used to retrieve different descriptors of the simplicial complex"
   ]
  },
  {
   "cell_type": "code",
   "execution_count": 27,
   "metadata": {},
   "outputs": [
    {
     "name": "stdout",
     "output_type": "stream",
     "text": [
      "([0, 1], 0.0)\n",
      "([0], 0.0)\n",
      "([1, 2], 0.0)\n",
      "([1, 3], 0.0)\n",
      "([1], 0.0)\n",
      "([2, 3], 0.0)\n",
      "([2], 0.0)\n",
      "([3], 0.0)\n",
      "([4], 1.0)\n",
      "3.0\n"
     ]
    }
   ],
   "source": [
    "# dimension of the complex\n",
    "st.dimension()\n",
    "\n",
    "# num of vertices or 0-simplices\n",
    "st.num_vertices()\n",
    "\n",
    "# num. of simplices\n",
    "st.num_simplices()\n",
    "\n",
    "# check the existance of a specific simplex\n",
    "st.find([1,2])\n",
    "\n",
    "# obtain d-skeleton i.e. union of all simplices of dim less than or equal to d\n",
    "# st1 is generator object\n",
    "st1 = st.get_skeleton(1)\n",
    "for splx in st1:\n",
    "    print(splx)\n",
    "\n",
    "\n",
    "# filtration value associated with particular simplex\n",
    "print(st.filtration([1,2,3]))"
   ]
  },
  {
   "cell_type": "markdown",
   "metadata": {},
   "source": [
    "Let `st` be an object of type `SimplexTree`. There are two ways of associating filter values to simplices:\n",
    "1. `st.insert( , filteration =  )`: to assign a filter value while introducing a simplex into the complex.\n",
    "2. `st.assign_filtration()`: to modify the existing filtration value of a simplex already included in the complex."
   ]
  },
  {
   "cell_type": "code",
   "execution_count": 24,
   "metadata": {},
   "outputs": [
    {
     "name": "stdout",
     "output_type": "stream",
     "text": [
      "([0], 0.0)\n",
      "([1], 0.0)\n",
      "([0, 1], 0.0)\n",
      "([2], 0.0)\n",
      "([1, 2], 0.0)\n",
      "([3], 0.0)\n",
      "([1, 3], 0.0)\n",
      "([2, 3], 0.0)\n",
      "([4], 1.0)\n",
      "([1, 2, 3], 3.0)\n"
     ]
    }
   ],
   "source": [
    "st.insert([4], filtration= 1)\n",
    "st.assign_filtration([1,2,3], filtration=3)\n",
    "st_gen = st.get_filtration()\n",
    "\n",
    "for smplx in st_gen:\n",
    "    print(smplx)"
   ]
  },
  {
   "cell_type": "code",
   "execution_count": 25,
   "metadata": {},
   "outputs": [
    {
     "name": "stdout",
     "output_type": "stream",
     "text": [
      "([0], 0.0)\n",
      "([1], 0.0)\n",
      "([0, 1], 0.0)\n",
      "([2], 0.0)\n",
      "([1, 2], 0.0)\n",
      "([3], 0.0)\n",
      "([1, 3], 0.0)\n",
      "([2, 3], 0.0)\n",
      "([4], 1.0)\n",
      "([1, 2, 3], 3.0)\n"
     ]
    }
   ],
   "source": [
    "st.make_filtration_non_decreasing()\n",
    "st_gen = st.get_filtration()\n",
    "\n",
    "for smplx in st_gen:\n",
    "    print(smplx)"
   ]
  }
 ],
 "metadata": {
  "kernelspec": {
   "display_name": "Python 3",
   "language": "python",
   "name": "python3"
  },
  "language_info": {
   "codemirror_mode": {
    "name": "ipython",
    "version": 3
   },
   "file_extension": ".py",
   "mimetype": "text/x-python",
   "name": "python",
   "nbconvert_exporter": "python",
   "pygments_lexer": "ipython3",
   "version": "3.12.7"
  }
 },
 "nbformat": 4,
 "nbformat_minor": 2
}
