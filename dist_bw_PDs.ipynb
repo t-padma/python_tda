{
 "cells": [
  {
   "cell_type": "markdown",
   "metadata": {},
   "source": [
    "## Computing Distance between Persistance Diagrams"
   ]
  },
  {
   "cell_type": "markdown",
   "metadata": {},
   "source": [
    "Some Python resources I found online that can compute different kinds of distance between Persistance Diagrams (PDs).\n",
    "1. [GUDHI](https://gudhi.inria.fr/python/latest/) python documentation resources:\n",
    "    * [Bottleneck distance](https://gudhi.inria.fr/python/latest/bottleneck_distance_user.html)\n",
    "    * [Wasserstein distance](https://gudhi.inria.fr/python/latest/wasserstein_distance_user.html)\n",
    "\n",
    "2. [scikit-tda](https://docs.scikit-tda.org/en/latest/notebooks/scikit-tda%20Tutorial.html)\n",
    "    * [persim](https://docs.scikit-tda.org/en/latest/notebooks/scikit-tda%20Tutorial.html#2.1.-Distance-between-diagrams)\n",
    "    * [persim documentation](https://persim.scikit-tda.org/en/latest/notebooks/distances.html)\n",
    "    \n",
    "3. [giotto-tda](https://giotto-ai.github.io/gtda-docs/0.5.1/notebooks/index.html#notebooks-index)\n",
    "    * [PairwiseDistance](https://giotto-ai.github.io/gtda-docs/0.2.0/modules/generated/diagrams/distances/gtda.diagrams.PairwiseDistance.html) function in `diagrams` module."
   ]
  },
  {
   "cell_type": "code",
   "execution_count": null,
   "metadata": {},
   "outputs": [],
   "source": []
  }
 ],
 "metadata": {
  "kernelspec": {
   "display_name": "tsvd_fmri",
   "language": "python",
   "name": "python3"
  },
  "language_info": {
   "name": "python",
   "version": "3.12.7"
  }
 },
 "nbformat": 4,
 "nbformat_minor": 2
}
